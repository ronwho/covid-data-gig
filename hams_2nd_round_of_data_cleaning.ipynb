{
 "metadata": {
  "language_info": {
   "codemirror_mode": {
    "name": "ipython",
    "version": 3
   },
   "file_extension": ".py",
   "mimetype": "text/x-python",
   "name": "python",
   "nbconvert_exporter": "python",
   "pygments_lexer": "ipython3",
   "version": "3.9.0-final"
  },
  "orig_nbformat": 2,
  "kernelspec": {
   "name": "python3",
   "display_name": "Python 3",
   "language": "python"
  }
 },
 "nbformat": 4,
 "nbformat_minor": 2,
 "cells": [
  {
   "cell_type": "code",
   "execution_count": 109,
   "metadata": {},
   "outputs": [],
   "source": [
    "import pandas as pd\n",
    "import numpy as np\n",
    "import seaborn as sns\n",
    "from matplotlib import pyplot as plt\n",
    "import datetime\n",
    "import re"
   ]
  },
  {
   "cell_type": "code",
   "execution_count": 110,
   "metadata": {},
   "outputs": [],
   "source": [
    "df = pd.read_csv(\"./Novel_Corona_Virus_Dataset/covid_19_data.csv\", header=0, index_col=0)"
   ]
  },
  {
   "cell_type": "code",
   "execution_count": 111,
   "metadata": {},
   "outputs": [
    {
     "output_type": "execute_result",
     "data": {
      "text/plain": [
       "    ObservationDate Province/State  Country/Region      Last Update  \\\n",
       "SNo                                                                   \n",
       "1        01/22/2020          Anhui  Mainland China  1/22/2020 17:00   \n",
       "2        01/22/2020        Beijing  Mainland China  1/22/2020 17:00   \n",
       "3        01/22/2020      Chongqing  Mainland China  1/22/2020 17:00   \n",
       "4        01/22/2020         Fujian  Mainland China  1/22/2020 17:00   \n",
       "5        01/22/2020          Gansu  Mainland China  1/22/2020 17:00   \n",
       "\n",
       "     Confirmed  Deaths  Recovered  \n",
       "SNo                                \n",
       "1          1.0     0.0        0.0  \n",
       "2         14.0     0.0        0.0  \n",
       "3          6.0     0.0        0.0  \n",
       "4          1.0     0.0        0.0  \n",
       "5          0.0     0.0        0.0  "
      ],
      "text/html": "<div>\n<style scoped>\n    .dataframe tbody tr th:only-of-type {\n        vertical-align: middle;\n    }\n\n    .dataframe tbody tr th {\n        vertical-align: top;\n    }\n\n    .dataframe thead th {\n        text-align: right;\n    }\n</style>\n<table border=\"1\" class=\"dataframe\">\n  <thead>\n    <tr style=\"text-align: right;\">\n      <th></th>\n      <th>ObservationDate</th>\n      <th>Province/State</th>\n      <th>Country/Region</th>\n      <th>Last Update</th>\n      <th>Confirmed</th>\n      <th>Deaths</th>\n      <th>Recovered</th>\n    </tr>\n    <tr>\n      <th>SNo</th>\n      <th></th>\n      <th></th>\n      <th></th>\n      <th></th>\n      <th></th>\n      <th></th>\n      <th></th>\n    </tr>\n  </thead>\n  <tbody>\n    <tr>\n      <th>1</th>\n      <td>01/22/2020</td>\n      <td>Anhui</td>\n      <td>Mainland China</td>\n      <td>1/22/2020 17:00</td>\n      <td>1.0</td>\n      <td>0.0</td>\n      <td>0.0</td>\n    </tr>\n    <tr>\n      <th>2</th>\n      <td>01/22/2020</td>\n      <td>Beijing</td>\n      <td>Mainland China</td>\n      <td>1/22/2020 17:00</td>\n      <td>14.0</td>\n      <td>0.0</td>\n      <td>0.0</td>\n    </tr>\n    <tr>\n      <th>3</th>\n      <td>01/22/2020</td>\n      <td>Chongqing</td>\n      <td>Mainland China</td>\n      <td>1/22/2020 17:00</td>\n      <td>6.0</td>\n      <td>0.0</td>\n      <td>0.0</td>\n    </tr>\n    <tr>\n      <th>4</th>\n      <td>01/22/2020</td>\n      <td>Fujian</td>\n      <td>Mainland China</td>\n      <td>1/22/2020 17:00</td>\n      <td>1.0</td>\n      <td>0.0</td>\n      <td>0.0</td>\n    </tr>\n    <tr>\n      <th>5</th>\n      <td>01/22/2020</td>\n      <td>Gansu</td>\n      <td>Mainland China</td>\n      <td>1/22/2020 17:00</td>\n      <td>0.0</td>\n      <td>0.0</td>\n      <td>0.0</td>\n    </tr>\n  </tbody>\n</table>\n</div>"
     },
     "metadata": {},
     "execution_count": 111
    }
   ],
   "source": [
    "df.head()"
   ]
  },
  {
   "cell_type": "code",
   "execution_count": 112,
   "metadata": {},
   "outputs": [],
   "source": [
    "df.columns = [\"Date_Observed\", \"State\", \"Country\", \"Last_Update\", \"Confirmed\", \"Deaths\", \"Recovered\"]"
   ]
  },
  {
   "cell_type": "code",
   "execution_count": 113,
   "metadata": {},
   "outputs": [
    {
     "output_type": "execute_result",
     "data": {
      "text/plain": [
       "       Date_Observed          State Country          Last_Update  Confirmed  \\\n",
       "SNo                                                                           \n",
       "32        01/22/2020     Washington      US      1/22/2020 17:00        1.0   \n",
       "70        01/23/2020     Washington      US        1/23/20 17:00        1.0   \n",
       "118       01/24/2020     Washington      US        1/24/20 17:00        1.0   \n",
       "119       01/24/2020        Chicago      US        1/24/20 17:00        1.0   \n",
       "159       01/25/2020     Washington      US        1/25/20 17:00        1.0   \n",
       "...              ...            ...     ...                  ...        ...   \n",
       "205918    01/19/2021       Virginia      US  2021-01-20 05:21:54   451076.0   \n",
       "205928    01/19/2021     Washington      US  2021-01-20 05:21:54   289939.0   \n",
       "205931    01/19/2021  West Virginia      US  2021-01-20 05:21:54   110820.0   \n",
       "205933    01/19/2021      Wisconsin      US  2021-01-20 05:21:54   571268.0   \n",
       "205934    01/19/2021        Wyoming      US  2021-01-20 05:21:54    49922.0   \n",
       "\n",
       "        Deaths  Recovered  \n",
       "SNo                        \n",
       "32         0.0        0.0  \n",
       "70         0.0        0.0  \n",
       "118        0.0        0.0  \n",
       "119        0.0        0.0  \n",
       "159        0.0        0.0  \n",
       "...        ...        ...  \n",
       "205918  5798.0        0.0  \n",
       "205928  3903.0        0.0  \n",
       "205931  1815.0        0.0  \n",
       "205933  5973.0        0.0  \n",
       "205934   550.0        0.0  \n",
       "\n",
       "[19200 rows x 7 columns]"
      ],
      "text/html": "<div>\n<style scoped>\n    .dataframe tbody tr th:only-of-type {\n        vertical-align: middle;\n    }\n\n    .dataframe tbody tr th {\n        vertical-align: top;\n    }\n\n    .dataframe thead th {\n        text-align: right;\n    }\n</style>\n<table border=\"1\" class=\"dataframe\">\n  <thead>\n    <tr style=\"text-align: right;\">\n      <th></th>\n      <th>Date_Observed</th>\n      <th>State</th>\n      <th>Country</th>\n      <th>Last_Update</th>\n      <th>Confirmed</th>\n      <th>Deaths</th>\n      <th>Recovered</th>\n    </tr>\n    <tr>\n      <th>SNo</th>\n      <th></th>\n      <th></th>\n      <th></th>\n      <th></th>\n      <th></th>\n      <th></th>\n      <th></th>\n    </tr>\n  </thead>\n  <tbody>\n    <tr>\n      <th>32</th>\n      <td>01/22/2020</td>\n      <td>Washington</td>\n      <td>US</td>\n      <td>1/22/2020 17:00</td>\n      <td>1.0</td>\n      <td>0.0</td>\n      <td>0.0</td>\n    </tr>\n    <tr>\n      <th>70</th>\n      <td>01/23/2020</td>\n      <td>Washington</td>\n      <td>US</td>\n      <td>1/23/20 17:00</td>\n      <td>1.0</td>\n      <td>0.0</td>\n      <td>0.0</td>\n    </tr>\n    <tr>\n      <th>118</th>\n      <td>01/24/2020</td>\n      <td>Washington</td>\n      <td>US</td>\n      <td>1/24/20 17:00</td>\n      <td>1.0</td>\n      <td>0.0</td>\n      <td>0.0</td>\n    </tr>\n    <tr>\n      <th>119</th>\n      <td>01/24/2020</td>\n      <td>Chicago</td>\n      <td>US</td>\n      <td>1/24/20 17:00</td>\n      <td>1.0</td>\n      <td>0.0</td>\n      <td>0.0</td>\n    </tr>\n    <tr>\n      <th>159</th>\n      <td>01/25/2020</td>\n      <td>Washington</td>\n      <td>US</td>\n      <td>1/25/20 17:00</td>\n      <td>1.0</td>\n      <td>0.0</td>\n      <td>0.0</td>\n    </tr>\n    <tr>\n      <th>...</th>\n      <td>...</td>\n      <td>...</td>\n      <td>...</td>\n      <td>...</td>\n      <td>...</td>\n      <td>...</td>\n      <td>...</td>\n    </tr>\n    <tr>\n      <th>205918</th>\n      <td>01/19/2021</td>\n      <td>Virginia</td>\n      <td>US</td>\n      <td>2021-01-20 05:21:54</td>\n      <td>451076.0</td>\n      <td>5798.0</td>\n      <td>0.0</td>\n    </tr>\n    <tr>\n      <th>205928</th>\n      <td>01/19/2021</td>\n      <td>Washington</td>\n      <td>US</td>\n      <td>2021-01-20 05:21:54</td>\n      <td>289939.0</td>\n      <td>3903.0</td>\n      <td>0.0</td>\n    </tr>\n    <tr>\n      <th>205931</th>\n      <td>01/19/2021</td>\n      <td>West Virginia</td>\n      <td>US</td>\n      <td>2021-01-20 05:21:54</td>\n      <td>110820.0</td>\n      <td>1815.0</td>\n      <td>0.0</td>\n    </tr>\n    <tr>\n      <th>205933</th>\n      <td>01/19/2021</td>\n      <td>Wisconsin</td>\n      <td>US</td>\n      <td>2021-01-20 05:21:54</td>\n      <td>571268.0</td>\n      <td>5973.0</td>\n      <td>0.0</td>\n    </tr>\n    <tr>\n      <th>205934</th>\n      <td>01/19/2021</td>\n      <td>Wyoming</td>\n      <td>US</td>\n      <td>2021-01-20 05:21:54</td>\n      <td>49922.0</td>\n      <td>550.0</td>\n      <td>0.0</td>\n    </tr>\n  </tbody>\n</table>\n<p>19200 rows × 7 columns</p>\n</div>"
     },
     "metadata": {},
     "execution_count": 113
    }
   ],
   "source": [
    "df = df[df[\"Country\"] == \"US\"]\n",
    "df"
   ]
  },
  {
   "source": [
    "### Gather all the states from hosp dataset in the novel corona virus dataset"
   ],
   "cell_type": "markdown",
   "metadata": {}
  },
  {
   "cell_type": "code",
   "execution_count": 114,
   "metadata": {},
   "outputs": [
    {
     "output_type": "execute_result",
     "data": {
      "text/plain": [
       "array(['California', 'Iowa', 'New York', 'Georgia', 'Colorado', 'Oregon',\n",
       "       'Maryland', 'Tennessee', 'Minnesota', 'Ohio', 'Connecticut',\n",
       "       'Utah', 'Michigan', 'New Mexico'], dtype=object)"
      ]
     },
     "metadata": {},
     "execution_count": 114
    }
   ],
   "source": [
    "hosp_states = [\"Tennessee\",\"Utah\",\"California\",\"Colorado\",\"Entire\" \"Network\",\"Connecticut\",\"Georgia\",\"Iowa\",\"Maryland\",\"Michigan\",\"Minnesota\",\"New Mexico\",\"New York\",\"Ohio\",\"Oregon\"]\n",
    "partial_states = [\"CA\",\"CO\",\"CT\",\"GA\",\"MD\",\"MN\", \"NM\",\"NY\",\"OR\",\"TN\",\"IA\",\"MI\",\"OH\",\"UT\"]\n",
    "state_dict = dict(zip(partial_states, hosp_states))\n",
    "\n",
    "## Remove abbreviations from the indices\n",
    "def rename_states(row):\n",
    "    for p_state in partial_states:\n",
    "        if re.search(p_state, row[\"State\"]) != None:\n",
    "            row[\"State\"] = state_dict[p_state]\n",
    "            break\n",
    "        \n",
    "    return row\n",
    "\n",
    "\n",
    "boolean = '|'.join(hosp_states)\n",
    "\n",
    "hospDf = df[df[\"State\"].str.contains(boolean)]\n",
    "hospDf = hospDf.apply(rename_states, axis=1)\n",
    "hospDf[\"State\"].unique()\n",
    "\n",
    "\n",
    "\n",
    "\n",
    "\n",
    "\n",
    "\n"
   ]
  },
  {
   "cell_type": "code",
   "execution_count": 115,
   "metadata": {},
   "outputs": [
    {
     "output_type": "execute_result",
     "data": {
      "text/plain": [
       "       Date_Observed       State Country          Last_Update  Confirmed  \\\n",
       "SNo                                                                        \n",
       "205       01/26/2020  California      US        1/26/20 16:00        2.0   \n",
       "252       01/27/2020  California      US        1/27/20 23:59        2.0   \n",
       "303       01/28/2020  California      US        1/28/20 23:00        2.0   \n",
       "355       01/29/2020  California      US        1/29/20 19:30        2.0   \n",
       "410       01/30/2020  California      US        1/30/20 16:00        2.0   \n",
       "...              ...         ...     ...                  ...        ...   \n",
       "205710    01/19/2021    New York      US  2021-01-20 05:21:54  1268692.0   \n",
       "205738    01/19/2021        Ohio      US  2021-01-20 05:21:54   836049.0   \n",
       "205746    01/19/2021      Oregon      US  2021-01-20 05:21:54   133851.0   \n",
       "205859    01/19/2021   Tennessee      US  2021-01-20 05:21:54   690065.0   \n",
       "205898    01/19/2021        Utah      US  2021-01-20 05:21:54   326221.0   \n",
       "\n",
       "         Deaths  Recovered  \n",
       "SNo                         \n",
       "205         0.0        0.0  \n",
       "252         0.0        0.0  \n",
       "303         0.0        0.0  \n",
       "355         0.0        0.0  \n",
       "410         0.0        0.0  \n",
       "...         ...        ...  \n",
       "205710  41368.0        0.0  \n",
       "205738  10323.0        0.0  \n",
       "205746   1803.0        0.0  \n",
       "205859   8471.0        0.0  \n",
       "205898   1507.0        0.0  \n",
       "\n",
       "[4438 rows x 7 columns]"
      ],
      "text/html": "<div>\n<style scoped>\n    .dataframe tbody tr th:only-of-type {\n        vertical-align: middle;\n    }\n\n    .dataframe tbody tr th {\n        vertical-align: top;\n    }\n\n    .dataframe thead th {\n        text-align: right;\n    }\n</style>\n<table border=\"1\" class=\"dataframe\">\n  <thead>\n    <tr style=\"text-align: right;\">\n      <th></th>\n      <th>Date_Observed</th>\n      <th>State</th>\n      <th>Country</th>\n      <th>Last_Update</th>\n      <th>Confirmed</th>\n      <th>Deaths</th>\n      <th>Recovered</th>\n    </tr>\n    <tr>\n      <th>SNo</th>\n      <th></th>\n      <th></th>\n      <th></th>\n      <th></th>\n      <th></th>\n      <th></th>\n      <th></th>\n    </tr>\n  </thead>\n  <tbody>\n    <tr>\n      <th>205</th>\n      <td>01/26/2020</td>\n      <td>California</td>\n      <td>US</td>\n      <td>1/26/20 16:00</td>\n      <td>2.0</td>\n      <td>0.0</td>\n      <td>0.0</td>\n    </tr>\n    <tr>\n      <th>252</th>\n      <td>01/27/2020</td>\n      <td>California</td>\n      <td>US</td>\n      <td>1/27/20 23:59</td>\n      <td>2.0</td>\n      <td>0.0</td>\n      <td>0.0</td>\n    </tr>\n    <tr>\n      <th>303</th>\n      <td>01/28/2020</td>\n      <td>California</td>\n      <td>US</td>\n      <td>1/28/20 23:00</td>\n      <td>2.0</td>\n      <td>0.0</td>\n      <td>0.0</td>\n    </tr>\n    <tr>\n      <th>355</th>\n      <td>01/29/2020</td>\n      <td>California</td>\n      <td>US</td>\n      <td>1/29/20 19:30</td>\n      <td>2.0</td>\n      <td>0.0</td>\n      <td>0.0</td>\n    </tr>\n    <tr>\n      <th>410</th>\n      <td>01/30/2020</td>\n      <td>California</td>\n      <td>US</td>\n      <td>1/30/20 16:00</td>\n      <td>2.0</td>\n      <td>0.0</td>\n      <td>0.0</td>\n    </tr>\n    <tr>\n      <th>...</th>\n      <td>...</td>\n      <td>...</td>\n      <td>...</td>\n      <td>...</td>\n      <td>...</td>\n      <td>...</td>\n      <td>...</td>\n    </tr>\n    <tr>\n      <th>205710</th>\n      <td>01/19/2021</td>\n      <td>New York</td>\n      <td>US</td>\n      <td>2021-01-20 05:21:54</td>\n      <td>1268692.0</td>\n      <td>41368.0</td>\n      <td>0.0</td>\n    </tr>\n    <tr>\n      <th>205738</th>\n      <td>01/19/2021</td>\n      <td>Ohio</td>\n      <td>US</td>\n      <td>2021-01-20 05:21:54</td>\n      <td>836049.0</td>\n      <td>10323.0</td>\n      <td>0.0</td>\n    </tr>\n    <tr>\n      <th>205746</th>\n      <td>01/19/2021</td>\n      <td>Oregon</td>\n      <td>US</td>\n      <td>2021-01-20 05:21:54</td>\n      <td>133851.0</td>\n      <td>1803.0</td>\n      <td>0.0</td>\n    </tr>\n    <tr>\n      <th>205859</th>\n      <td>01/19/2021</td>\n      <td>Tennessee</td>\n      <td>US</td>\n      <td>2021-01-20 05:21:54</td>\n      <td>690065.0</td>\n      <td>8471.0</td>\n      <td>0.0</td>\n    </tr>\n    <tr>\n      <th>205898</th>\n      <td>01/19/2021</td>\n      <td>Utah</td>\n      <td>US</td>\n      <td>2021-01-20 05:21:54</td>\n      <td>326221.0</td>\n      <td>1507.0</td>\n      <td>0.0</td>\n    </tr>\n  </tbody>\n</table>\n<p>4438 rows × 7 columns</p>\n</div>"
     },
     "metadata": {},
     "execution_count": 115
    }
   ],
   "source": [
    "hospDf"
   ]
  },
  {
   "source": [
    "### We want to find the ratio of people with confirmed cases that are hospitalized. We will use the following equation to achieve this\n",
    "\n",
    "Ratio = (population of state * (# of hospitalizations)/100000)/Confirmed Cases\n",
    "\n",
    "### Here are the variables that we need\n",
    "1. Know how to get the population of state through the census\n",
    "2. Get # of hospitalizations per 100000\n",
    "3. Aggregate Confirmed Cases weekly over the epidemological weeks defined in COVID-NET\n",
    "4. pd.join \"# of hospitalizations\" table with aggregate table, using the keys=[\"Date\", \"State\"]\n",
    "5. Use apply to get the hospitalization ratio"
   ],
   "cell_type": "markdown",
   "metadata": {}
  },
  {
   "cell_type": "code",
   "execution_count": 116,
   "metadata": {},
   "outputs": [
    {
     "output_type": "execute_result",
     "data": {
      "text/plain": [
       "               NAME  POPESTIMATE2020\n",
       "0     United States        329484123\n",
       "1  Northeast Region         55849869\n",
       "2    Midwest Region         68316744\n",
       "3      South Region        126662754\n",
       "4       West Region         78654756"
      ],
      "text/html": "<div>\n<style scoped>\n    .dataframe tbody tr th:only-of-type {\n        vertical-align: middle;\n    }\n\n    .dataframe tbody tr th {\n        vertical-align: top;\n    }\n\n    .dataframe thead th {\n        text-align: right;\n    }\n</style>\n<table border=\"1\" class=\"dataframe\">\n  <thead>\n    <tr style=\"text-align: right;\">\n      <th></th>\n      <th>NAME</th>\n      <th>POPESTIMATE2020</th>\n    </tr>\n  </thead>\n  <tbody>\n    <tr>\n      <th>0</th>\n      <td>United States</td>\n      <td>329484123</td>\n    </tr>\n    <tr>\n      <th>1</th>\n      <td>Northeast Region</td>\n      <td>55849869</td>\n    </tr>\n    <tr>\n      <th>2</th>\n      <td>Midwest Region</td>\n      <td>68316744</td>\n    </tr>\n    <tr>\n      <th>3</th>\n      <td>South Region</td>\n      <td>126662754</td>\n    </tr>\n    <tr>\n      <th>4</th>\n      <td>West Region</td>\n      <td>78654756</td>\n    </tr>\n  </tbody>\n</table>\n</div>"
     },
     "metadata": {},
     "execution_count": 116
    }
   ],
   "source": [
    "df_census = pd.read_csv(\"./US_CENSUS/nst-est2020.csv\", usecols=[\"POPESTIMATE2020\", \"NAME\"], header=0)\n",
    "df_census.head()"
   ]
  },
  {
   "cell_type": "code",
   "execution_count": 117,
   "metadata": {},
   "outputs": [
    {
     "output_type": "execute_result",
     "data": {
      "text/plain": [
       "{'California': 39368078,\n",
       " 'Colorado': 5807719,\n",
       " 'Connecticut': 3557006,\n",
       " 'Georgia': 10710017,\n",
       " 'Iowa': 3163561,\n",
       " 'Maryland': 6055802,\n",
       " 'Michigan': 9966555,\n",
       " 'Minnesota': 5657342,\n",
       " 'New Mexico': 2106319,\n",
       " 'New York': 19336776,\n",
       " 'Ohio': 11693217,\n",
       " 'Oregon': 4241507,\n",
       " 'Tennessee': 6886834,\n",
       " 'Utah': 3249879}"
      ]
     },
     "metadata": {},
     "execution_count": 117
    }
   ],
   "source": [
    "df_census = df_census[df_census[\"NAME\"].str.contains(boolean)]\n",
    "df_census = dict(zip(list(df_census[\"NAME\"]), list(df_census[\"POPESTIMATE2020\"])))\n",
    "df_census\n",
    "\n"
   ]
  },
  {
   "cell_type": "code",
   "execution_count": 118,
   "metadata": {},
   "outputs": [
    {
     "output_type": "stream",
     "name": "stdout",
     "text": [
      "[ True  True  True  True  True  True  True  True  True  True  True  True\n  True  True]\n[ True  True  True  True  True  True  True  True  True  True  True  True\n  True  True]\n"
     ]
    }
   ],
   "source": [
    "df_hospitalizations = pd.read_csv(\"./data/valid_df.csv\", header=0)\n",
    "df_hospitalizations[\"date\"] = pd.to_datetime(df_hospitalizations[\"date\"])\n",
    "interests = df_hospitalizations[\"age_category\"].str.contains(\"Overall|0-4 yr|5-17 yr|18-49 yr|50-64 yr|65\\+ yr\") ## We only want these age categories\n",
    "df_hospitalizations = df_hospitalizations[interests]\n",
    "\n",
    "## verify our states all match\n",
    "print(np.sort(df_hospitalizations[\"catchment\"].unique()) == np.sort(np.array(list(df_census.keys()))))\n",
    "print(np.sort(df_hospitalizations[\"catchment\"].unique()) == np.sort(hospDf[\"State\"].unique()))\n"
   ]
  },
  {
   "cell_type": "code",
   "execution_count": 119,
   "metadata": {},
   "outputs": [
    {
     "output_type": "execute_result",
     "data": {
      "text/plain": [
       "    Date_Observed       State Country    Last_Update  Confirmed  Deaths  \\\n",
       "SNo                                                                       \n",
       "205    01/26/2020  California      US  1/26/20 16:00        2.0     0.0   \n",
       "252    01/27/2020  California      US  1/27/20 23:59        2.0     0.0   \n",
       "303    01/28/2020  California      US  1/28/20 23:00        2.0     0.0   \n",
       "355    01/29/2020  California      US  1/29/20 19:30        2.0     0.0   \n",
       "410    01/30/2020  California      US  1/30/20 16:00        2.0     0.0   \n",
       "\n",
       "     Recovered  \n",
       "SNo             \n",
       "205        0.0  \n",
       "252        0.0  \n",
       "303        0.0  \n",
       "355        0.0  \n",
       "410        0.0  "
      ],
      "text/html": "<div>\n<style scoped>\n    .dataframe tbody tr th:only-of-type {\n        vertical-align: middle;\n    }\n\n    .dataframe tbody tr th {\n        vertical-align: top;\n    }\n\n    .dataframe thead th {\n        text-align: right;\n    }\n</style>\n<table border=\"1\" class=\"dataframe\">\n  <thead>\n    <tr style=\"text-align: right;\">\n      <th></th>\n      <th>Date_Observed</th>\n      <th>State</th>\n      <th>Country</th>\n      <th>Last_Update</th>\n      <th>Confirmed</th>\n      <th>Deaths</th>\n      <th>Recovered</th>\n    </tr>\n    <tr>\n      <th>SNo</th>\n      <th></th>\n      <th></th>\n      <th></th>\n      <th></th>\n      <th></th>\n      <th></th>\n      <th></th>\n    </tr>\n  </thead>\n  <tbody>\n    <tr>\n      <th>205</th>\n      <td>01/26/2020</td>\n      <td>California</td>\n      <td>US</td>\n      <td>1/26/20 16:00</td>\n      <td>2.0</td>\n      <td>0.0</td>\n      <td>0.0</td>\n    </tr>\n    <tr>\n      <th>252</th>\n      <td>01/27/2020</td>\n      <td>California</td>\n      <td>US</td>\n      <td>1/27/20 23:59</td>\n      <td>2.0</td>\n      <td>0.0</td>\n      <td>0.0</td>\n    </tr>\n    <tr>\n      <th>303</th>\n      <td>01/28/2020</td>\n      <td>California</td>\n      <td>US</td>\n      <td>1/28/20 23:00</td>\n      <td>2.0</td>\n      <td>0.0</td>\n      <td>0.0</td>\n    </tr>\n    <tr>\n      <th>355</th>\n      <td>01/29/2020</td>\n      <td>California</td>\n      <td>US</td>\n      <td>1/29/20 19:30</td>\n      <td>2.0</td>\n      <td>0.0</td>\n      <td>0.0</td>\n    </tr>\n    <tr>\n      <th>410</th>\n      <td>01/30/2020</td>\n      <td>California</td>\n      <td>US</td>\n      <td>1/30/20 16:00</td>\n      <td>2.0</td>\n      <td>0.0</td>\n      <td>0.0</td>\n    </tr>\n  </tbody>\n</table>\n</div>"
     },
     "metadata": {},
     "execution_count": 119
    }
   ],
   "source": [
    "hospDf.head()"
   ]
  },
  {
   "cell_type": "code",
   "execution_count": 120,
   "metadata": {},
   "outputs": [
    {
     "output_type": "execute_result",
     "data": {
      "text/plain": [
       "(4438, 7)"
      ]
     },
     "metadata": {},
     "execution_count": 120
    }
   ],
   "source": [
    "hospDf.shape"
   ]
  },
  {
   "cell_type": "code",
   "execution_count": 121,
   "metadata": {},
   "outputs": [
    {
     "output_type": "execute_result",
     "data": {
      "text/plain": [
       "Date_Observed     object\n",
       "State             object\n",
       "Country           object\n",
       "Last_Update       object\n",
       "Confirmed        float64\n",
       "Deaths           float64\n",
       "Recovered        float64\n",
       "dtype: object"
      ]
     },
     "metadata": {},
     "execution_count": 121
    }
   ],
   "source": [
    "hospDf = hospDf.sort_values(\"State\")\n",
    "hospDf.dtypes"
   ]
  },
  {
   "source": [
    "Let's get the confirmed cases in weeks starting from March 1st, 2020. The start of the first epidemological week and ends on March 7th as indicated on the dataset on cdc.gov: https://gis.cdc.gov/grasp/COVIDNet/COVID19_3.html"
   ],
   "cell_type": "markdown",
   "metadata": {}
  },
  {
   "cell_type": "code",
   "execution_count": 122,
   "metadata": {},
   "outputs": [],
   "source": [
    "hospDf[\"Date_Observed\"] = pd.to_datetime(hospDf[\"Date_Observed\"])\n",
    "dateBool = (hospDf[\"Date_Observed\"] >= \"03/01/2020\") & (hospDf[\"Date_Observed\"] <= hospDf[\"Date_Observed\"].max()) \n",
    "hospDf = hospDf[dateBool].sort_values(\"Date_Observed\")\n",
    "tempUpdate = hospDf[hospDf[\"Date_Observed\"] == hospDf[\"Date_Observed\"].min()]\n",
    "tempUpdate[\"Date_Observed\"] = hospDf[\"Date_Observed\"].min() - datetime.timedelta(days=1) ## Shift min from 03/02/2020 ti 03/01/2020\n",
    "hospDf.update(tempUpdate)"
   ]
  },
  {
   "cell_type": "code",
   "execution_count": 123,
   "metadata": {},
   "outputs": [
    {
     "output_type": "execute_result",
     "data": {
      "text/plain": [
       "                           Confirmed   Deaths  Recovered\n",
       "Date_Observed State                                     \n",
       "2020-03-01    Iowa               1.0      0.0        0.0\n",
       "2020-03-08    Iowa              45.0      0.0        0.0\n",
       "2020-03-15    California      1590.0     24.0       28.0\n",
       "              Colorado         375.0      2.0        0.0\n",
       "              Connecticut       67.0      0.0        0.0\n",
       "...                              ...      ...        ...\n",
       "2021-01-24    New York     2524663.0  82541.0        0.0\n",
       "              Ohio         1667115.0  20604.0        0.0\n",
       "              Oregon        267702.0   3606.0        0.0\n",
       "              Tennessee    1377816.0  16901.0        0.0\n",
       "              Utah          651140.0   3007.0        0.0\n",
       "\n",
       "[646 rows x 3 columns]"
      ],
      "text/html": "<div>\n<style scoped>\n    .dataframe tbody tr th:only-of-type {\n        vertical-align: middle;\n    }\n\n    .dataframe tbody tr th {\n        vertical-align: top;\n    }\n\n    .dataframe thead th {\n        text-align: right;\n    }\n</style>\n<table border=\"1\" class=\"dataframe\">\n  <thead>\n    <tr style=\"text-align: right;\">\n      <th></th>\n      <th></th>\n      <th>Confirmed</th>\n      <th>Deaths</th>\n      <th>Recovered</th>\n    </tr>\n    <tr>\n      <th>Date_Observed</th>\n      <th>State</th>\n      <th></th>\n      <th></th>\n      <th></th>\n    </tr>\n  </thead>\n  <tbody>\n    <tr>\n      <th>2020-03-01</th>\n      <th>Iowa</th>\n      <td>1.0</td>\n      <td>0.0</td>\n      <td>0.0</td>\n    </tr>\n    <tr>\n      <th>2020-03-08</th>\n      <th>Iowa</th>\n      <td>45.0</td>\n      <td>0.0</td>\n      <td>0.0</td>\n    </tr>\n    <tr>\n      <th rowspan=\"3\" valign=\"top\">2020-03-15</th>\n      <th>California</th>\n      <td>1590.0</td>\n      <td>24.0</td>\n      <td>28.0</td>\n    </tr>\n    <tr>\n      <th>Colorado</th>\n      <td>375.0</td>\n      <td>2.0</td>\n      <td>0.0</td>\n    </tr>\n    <tr>\n      <th>Connecticut</th>\n      <td>67.0</td>\n      <td>0.0</td>\n      <td>0.0</td>\n    </tr>\n    <tr>\n      <th>...</th>\n      <th>...</th>\n      <td>...</td>\n      <td>...</td>\n      <td>...</td>\n    </tr>\n    <tr>\n      <th rowspan=\"5\" valign=\"top\">2021-01-24</th>\n      <th>New York</th>\n      <td>2524663.0</td>\n      <td>82541.0</td>\n      <td>0.0</td>\n    </tr>\n    <tr>\n      <th>Ohio</th>\n      <td>1667115.0</td>\n      <td>20604.0</td>\n      <td>0.0</td>\n    </tr>\n    <tr>\n      <th>Oregon</th>\n      <td>267702.0</td>\n      <td>3606.0</td>\n      <td>0.0</td>\n    </tr>\n    <tr>\n      <th>Tennessee</th>\n      <td>1377816.0</td>\n      <td>16901.0</td>\n      <td>0.0</td>\n    </tr>\n    <tr>\n      <th>Utah</th>\n      <td>651140.0</td>\n      <td>3007.0</td>\n      <td>0.0</td>\n    </tr>\n  </tbody>\n</table>\n<p>646 rows × 3 columns</p>\n</div>"
     },
     "metadata": {},
     "execution_count": 123
    }
   ],
   "source": [
    "dfWeekly = hospDf.groupby([pd.Grouper(key=\"Date_Observed\", freq='W'), \"State\"]).sum()\n",
    "dfWeekly"
   ]
  },
  {
   "cell_type": "code",
   "execution_count": 124,
   "metadata": {},
   "outputs": [
    {
     "output_type": "execute_result",
     "data": {
      "text/plain": [
       "MultiIndex([('2020-03-07',        'Iowa'),\n",
       "            ('2020-03-14',        'Iowa'),\n",
       "            ('2020-03-21',  'California'),\n",
       "            ('2020-03-21',    'Colorado'),\n",
       "            ('2020-03-21', 'Connecticut'),\n",
       "            ('2020-03-21',     'Georgia'),\n",
       "            ('2020-03-21',        'Iowa'),\n",
       "            ('2020-03-21',    'Maryland'),\n",
       "            ('2020-03-21',    'Michigan'),\n",
       "            ('2020-03-21',   'Minnesota'),\n",
       "            ...\n",
       "            ('2021-01-30',        'Iowa'),\n",
       "            ('2021-01-30',    'Maryland'),\n",
       "            ('2021-01-30',    'Michigan'),\n",
       "            ('2021-01-30',   'Minnesota'),\n",
       "            ('2021-01-30',  'New Mexico'),\n",
       "            ('2021-01-30',    'New York'),\n",
       "            ('2021-01-30',        'Ohio'),\n",
       "            ('2021-01-30',      'Oregon'),\n",
       "            ('2021-01-30',   'Tennessee'),\n",
       "            ('2021-01-30',        'Utah')],\n",
       "           names=['date', 'catchment'], length=646)"
      ]
     },
     "metadata": {},
     "execution_count": 124
    }
   ],
   "source": [
    "## Reconstructing the tuples so that time is shifted to the end of the week\n",
    "dfWeekly.index = pd.MultiIndex.from_tuples([(index[0] + datetime.timedelta(days=6), index[1]) for index in dfWeekly.index], names=[\"date\", \"catchment\"])\n",
    "dfWeekly.index"
   ]
  },
  {
   "source": [
    "### Let's Review this"
   ],
   "cell_type": "markdown",
   "metadata": {}
  },
  {
   "source": [
    "### We want to find the ratio of people with confirmed cases that are hospitalized. We will use the following equation to achieve this\n",
    "\n",
    "Ratio = (population of state * (# of hospitalizations)/100000)/Confirmed Cases\n",
    "\n",
    "### Here are the variables that we need\n",
    "1. Know how to get the population of state through the census\n",
    "2. Get # of hospitalizations per 100000\n",
    "3. Aggregate Confirmed Cases weekly over the epidemological weeks defined in COVID-NET\n",
    "4. pd.join to \"# of hospitalizations\" table with the other two tables, using the keys=[\"Date\", \"State\"]\n",
    "5. Use apply to get the hospitalization ratio"
   ],
   "cell_type": "markdown",
   "metadata": {}
  },
  {
   "cell_type": "code",
   "execution_count": 125,
   "metadata": {},
   "outputs": [
    {
     "output_type": "execute_result",
     "data": {
      "text/plain": [
       "                        Confirmed   Deaths  Recovered\n",
       "date       catchment                                 \n",
       "2020-03-07 Iowa               1.0      0.0        0.0\n",
       "2020-03-14 Iowa              45.0      0.0        0.0\n",
       "2020-03-21 California      1590.0     24.0       28.0\n",
       "           Colorado         375.0      2.0        0.0\n",
       "           Connecticut       67.0      0.0        0.0\n",
       "...                           ...      ...        ...\n",
       "2021-01-30 New York     2524663.0  82541.0        0.0\n",
       "           Ohio         1667115.0  20604.0        0.0\n",
       "           Oregon        267702.0   3606.0        0.0\n",
       "           Tennessee    1377816.0  16901.0        0.0\n",
       "           Utah          651140.0   3007.0        0.0\n",
       "\n",
       "[646 rows x 3 columns]"
      ],
      "text/html": "<div>\n<style scoped>\n    .dataframe tbody tr th:only-of-type {\n        vertical-align: middle;\n    }\n\n    .dataframe tbody tr th {\n        vertical-align: top;\n    }\n\n    .dataframe thead th {\n        text-align: right;\n    }\n</style>\n<table border=\"1\" class=\"dataframe\">\n  <thead>\n    <tr style=\"text-align: right;\">\n      <th></th>\n      <th></th>\n      <th>Confirmed</th>\n      <th>Deaths</th>\n      <th>Recovered</th>\n    </tr>\n    <tr>\n      <th>date</th>\n      <th>catchment</th>\n      <th></th>\n      <th></th>\n      <th></th>\n    </tr>\n  </thead>\n  <tbody>\n    <tr>\n      <th>2020-03-07</th>\n      <th>Iowa</th>\n      <td>1.0</td>\n      <td>0.0</td>\n      <td>0.0</td>\n    </tr>\n    <tr>\n      <th>2020-03-14</th>\n      <th>Iowa</th>\n      <td>45.0</td>\n      <td>0.0</td>\n      <td>0.0</td>\n    </tr>\n    <tr>\n      <th rowspan=\"3\" valign=\"top\">2020-03-21</th>\n      <th>California</th>\n      <td>1590.0</td>\n      <td>24.0</td>\n      <td>28.0</td>\n    </tr>\n    <tr>\n      <th>Colorado</th>\n      <td>375.0</td>\n      <td>2.0</td>\n      <td>0.0</td>\n    </tr>\n    <tr>\n      <th>Connecticut</th>\n      <td>67.0</td>\n      <td>0.0</td>\n      <td>0.0</td>\n    </tr>\n    <tr>\n      <th>...</th>\n      <th>...</th>\n      <td>...</td>\n      <td>...</td>\n      <td>...</td>\n    </tr>\n    <tr>\n      <th rowspan=\"5\" valign=\"top\">2021-01-30</th>\n      <th>New York</th>\n      <td>2524663.0</td>\n      <td>82541.0</td>\n      <td>0.0</td>\n    </tr>\n    <tr>\n      <th>Ohio</th>\n      <td>1667115.0</td>\n      <td>20604.0</td>\n      <td>0.0</td>\n    </tr>\n    <tr>\n      <th>Oregon</th>\n      <td>267702.0</td>\n      <td>3606.0</td>\n      <td>0.0</td>\n    </tr>\n    <tr>\n      <th>Tennessee</th>\n      <td>1377816.0</td>\n      <td>16901.0</td>\n      <td>0.0</td>\n    </tr>\n    <tr>\n      <th>Utah</th>\n      <td>651140.0</td>\n      <td>3007.0</td>\n      <td>0.0</td>\n    </tr>\n  </tbody>\n</table>\n<p>646 rows × 3 columns</p>\n</div>"
     },
     "metadata": {},
     "execution_count": 125
    }
   ],
   "source": [
    "dfWeekly"
   ]
  },
  {
   "cell_type": "code",
   "execution_count": 126,
   "metadata": {},
   "outputs": [
    {
     "output_type": "stream",
     "name": "stdout",
     "text": [
      "<class 'pandas.core.frame.DataFrame'>\nInt64Index: 8736 entries, 0 to 8735\nData columns (total 11 columns):\n #   Column           Non-Null Count  Dtype         \n---  ------           --------------  -----         \n 0   catchment        8736 non-null   object        \n 1   network          8736 non-null   object        \n 2   year             8736 non-null   int64         \n 3   mmwr_year        8736 non-null   int64         \n 4   mmwr_week        8736 non-null   int64         \n 5   age_category     8736 non-null   object        \n 6   sex              8736 non-null   object        \n 7   race             8736 non-null   object        \n 8   cumulative_rate  8736 non-null   float64       \n 9   weekly_rate      8736 non-null   float64       \n 10  date             8736 non-null   datetime64[ns]\ndtypes: datetime64[ns](1), float64(2), int64(3), object(5)\nmemory usage: 819.0+ KB\n"
     ]
    }
   ],
   "source": [
    "df_hospitalizations.info()"
   ]
  },
  {
   "cell_type": "code",
   "execution_count": 127,
   "metadata": {},
   "outputs": [],
   "source": [
    "## Drop overalls, then add up weekly rates from every age group together,\n",
    "only_overalls = (df_hospitalizations[\"age_category\"] == \"Overall\") & \\\n",
    "                (df_hospitalizations[\"sex\"] == \"Overall\") & \\\n",
    "                (df_hospitalizations[\"race\"] == \"Overall\") ## 48 * 14 = 672 \n",
    "\n",
    "df_hospitalizations_sum = df_hospitalizations[~only_overalls] \n",
    "df_hospitalizations_sum[\"date\"] = pd.to_datetime(df_hospitalizations_sum[\"date\"])\n",
    "summed_results = df_hospitalizations_sum[[\"catchment\", \"date\", \"cumulative_rate\", \"weekly_rate\"]].groupby([\"catchment\", \"date\"]).sum()"
   ]
  },
  {
   "cell_type": "code",
   "execution_count": 128,
   "metadata": {},
   "outputs": [
    {
     "output_type": "execute_result",
     "data": {
      "text/plain": [
       "                       cumulative_rate  weekly_rate\n",
       "catchment  date                                    \n",
       "California 2020-03-07              1.8          1.8\n",
       "           2020-03-14             10.0          8.2\n",
       "           2020-03-21             42.8         32.8\n",
       "           2020-03-28             91.5         48.7\n",
       "           2020-04-04            140.6         48.9"
      ],
      "text/html": "<div>\n<style scoped>\n    .dataframe tbody tr th:only-of-type {\n        vertical-align: middle;\n    }\n\n    .dataframe tbody tr th {\n        vertical-align: top;\n    }\n\n    .dataframe thead th {\n        text-align: right;\n    }\n</style>\n<table border=\"1\" class=\"dataframe\">\n  <thead>\n    <tr style=\"text-align: right;\">\n      <th></th>\n      <th></th>\n      <th>cumulative_rate</th>\n      <th>weekly_rate</th>\n    </tr>\n    <tr>\n      <th>catchment</th>\n      <th>date</th>\n      <th></th>\n      <th></th>\n    </tr>\n  </thead>\n  <tbody>\n    <tr>\n      <th rowspan=\"5\" valign=\"top\">California</th>\n      <th>2020-03-07</th>\n      <td>1.8</td>\n      <td>1.8</td>\n    </tr>\n    <tr>\n      <th>2020-03-14</th>\n      <td>10.0</td>\n      <td>8.2</td>\n    </tr>\n    <tr>\n      <th>2020-03-21</th>\n      <td>42.8</td>\n      <td>32.8</td>\n    </tr>\n    <tr>\n      <th>2020-03-28</th>\n      <td>91.5</td>\n      <td>48.7</td>\n    </tr>\n    <tr>\n      <th>2020-04-04</th>\n      <td>140.6</td>\n      <td>48.9</td>\n    </tr>\n  </tbody>\n</table>\n</div>"
     },
     "metadata": {},
     "execution_count": 128
    }
   ],
   "source": [
    "summed_results.head()"
   ]
  },
  {
   "cell_type": "code",
   "execution_count": 129,
   "metadata": {},
   "outputs": [
    {
     "output_type": "execute_result",
     "data": {
      "text/plain": [
       "   catchment network  year  mmwr_year  mmwr_week age_category      sex  \\\n",
       "0  Tennessee     EIP  2020       2020         10      Overall  Overall   \n",
       "1       Utah    IHSP  2020       2020         10      Overall  Overall   \n",
       "2       Utah    IHSP  2020       2020         10      Overall  Overall   \n",
       "3       Utah    IHSP  2020       2020         10      Overall  Overall   \n",
       "4       Utah    IHSP  2020       2020         10      Overall  Overall   \n",
       "\n",
       "                     race  cumulative_rate  weekly_rate       date  \n",
       "0                 Overall              0.1          0.1 2020-03-07  \n",
       "1                   White              0.0          0.0 2020-03-07  \n",
       "2                   Black              0.0          0.0 2020-03-07  \n",
       "3         Hispanic/Latino              0.0          0.0 2020-03-07  \n",
       "4  Asian/Pacific Islander              0.0          0.0 2020-03-07  "
      ],
      "text/html": "<div>\n<style scoped>\n    .dataframe tbody tr th:only-of-type {\n        vertical-align: middle;\n    }\n\n    .dataframe tbody tr th {\n        vertical-align: top;\n    }\n\n    .dataframe thead th {\n        text-align: right;\n    }\n</style>\n<table border=\"1\" class=\"dataframe\">\n  <thead>\n    <tr style=\"text-align: right;\">\n      <th></th>\n      <th>catchment</th>\n      <th>network</th>\n      <th>year</th>\n      <th>mmwr_year</th>\n      <th>mmwr_week</th>\n      <th>age_category</th>\n      <th>sex</th>\n      <th>race</th>\n      <th>cumulative_rate</th>\n      <th>weekly_rate</th>\n      <th>date</th>\n    </tr>\n  </thead>\n  <tbody>\n    <tr>\n      <th>0</th>\n      <td>Tennessee</td>\n      <td>EIP</td>\n      <td>2020</td>\n      <td>2020</td>\n      <td>10</td>\n      <td>Overall</td>\n      <td>Overall</td>\n      <td>Overall</td>\n      <td>0.1</td>\n      <td>0.1</td>\n      <td>2020-03-07</td>\n    </tr>\n    <tr>\n      <th>1</th>\n      <td>Utah</td>\n      <td>IHSP</td>\n      <td>2020</td>\n      <td>2020</td>\n      <td>10</td>\n      <td>Overall</td>\n      <td>Overall</td>\n      <td>White</td>\n      <td>0.0</td>\n      <td>0.0</td>\n      <td>2020-03-07</td>\n    </tr>\n    <tr>\n      <th>2</th>\n      <td>Utah</td>\n      <td>IHSP</td>\n      <td>2020</td>\n      <td>2020</td>\n      <td>10</td>\n      <td>Overall</td>\n      <td>Overall</td>\n      <td>Black</td>\n      <td>0.0</td>\n      <td>0.0</td>\n      <td>2020-03-07</td>\n    </tr>\n    <tr>\n      <th>3</th>\n      <td>Utah</td>\n      <td>IHSP</td>\n      <td>2020</td>\n      <td>2020</td>\n      <td>10</td>\n      <td>Overall</td>\n      <td>Overall</td>\n      <td>Hispanic/Latino</td>\n      <td>0.0</td>\n      <td>0.0</td>\n      <td>2020-03-07</td>\n    </tr>\n    <tr>\n      <th>4</th>\n      <td>Utah</td>\n      <td>IHSP</td>\n      <td>2020</td>\n      <td>2020</td>\n      <td>10</td>\n      <td>Overall</td>\n      <td>Overall</td>\n      <td>Asian/Pacific Islander</td>\n      <td>0.0</td>\n      <td>0.0</td>\n      <td>2020-03-07</td>\n    </tr>\n  </tbody>\n</table>\n</div>"
     },
     "metadata": {},
     "execution_count": 129
    }
   ],
   "source": [
    "df_hospitalizations.head()"
   ]
  },
  {
   "cell_type": "code",
   "execution_count": 130,
   "metadata": {},
   "outputs": [
    {
     "output_type": "execute_result",
     "data": {
      "text/plain": [
       "(8736, 11)"
      ]
     },
     "metadata": {},
     "execution_count": 130
    }
   ],
   "source": [
    "df_hospitalizations.shape"
   ]
  },
  {
   "cell_type": "code",
   "execution_count": 108,
   "metadata": {},
   "outputs": [
    {
     "output_type": "execute_result",
     "data": {
      "text/plain": [
       "Empty DataFrame\n",
       "Columns: [catchment, network, year, mmwr_year, mmwr_week, age_category, sex, race, date]\n",
       "Index: []"
      ],
      "text/html": "<div>\n<style scoped>\n    .dataframe tbody tr th:only-of-type {\n        vertical-align: middle;\n    }\n\n    .dataframe tbody tr th {\n        vertical-align: top;\n    }\n\n    .dataframe thead th {\n        text-align: right;\n    }\n</style>\n<table border=\"1\" class=\"dataframe\">\n  <thead>\n    <tr style=\"text-align: right;\">\n      <th></th>\n      <th>catchment</th>\n      <th>network</th>\n      <th>year</th>\n      <th>mmwr_year</th>\n      <th>mmwr_week</th>\n      <th>age_category</th>\n      <th>sex</th>\n      <th>race</th>\n      <th>date</th>\n    </tr>\n  </thead>\n  <tbody>\n  </tbody>\n</table>\n</div>"
     },
     "metadata": {},
     "execution_count": 108
    }
   ],
   "source": [
    "overall_values = df_hospitalizations[only_overalls]\n",
    "overall_values = overall_values.drop([\"cumulative_rate\", \"weekly_rate\"], axis=1)\n",
    "\n",
    "merge_one = overall_values.join(summed_results, on=[\"catchment\", \"date\"]) ## overall values is now a sum and not a mean"
   ]
  },
  {
   "cell_type": "code",
   "execution_count": 107,
   "metadata": {},
   "outputs": [
    {
     "output_type": "execute_result",
     "data": {
      "text/plain": [
       "Empty DataFrame\n",
       "Columns: [catchment, network, year, mmwr_year, mmwr_week, age_category, sex, race, date, cumulative_rate, weekly_rate]\n",
       "Index: []"
      ],
      "text/html": "<div>\n<style scoped>\n    .dataframe tbody tr th:only-of-type {\n        vertical-align: middle;\n    }\n\n    .dataframe tbody tr th {\n        vertical-align: top;\n    }\n\n    .dataframe thead th {\n        text-align: right;\n    }\n</style>\n<table border=\"1\" class=\"dataframe\">\n  <thead>\n    <tr style=\"text-align: right;\">\n      <th></th>\n      <th>catchment</th>\n      <th>network</th>\n      <th>year</th>\n      <th>mmwr_year</th>\n      <th>mmwr_week</th>\n      <th>age_category</th>\n      <th>sex</th>\n      <th>race</th>\n      <th>date</th>\n      <th>cumulative_rate</th>\n      <th>weekly_rate</th>\n    </tr>\n  </thead>\n  <tbody>\n  </tbody>\n</table>\n</div>"
     },
     "metadata": {},
     "execution_count": 107
    }
   ],
   "source": [
    "merge_one"
   ]
  },
  {
   "cell_type": "code",
   "execution_count": null,
   "metadata": {},
   "outputs": [],
   "source": [
    "merged_overall = merge_one.merge(dfWeekly, on=[\"catchment\", \"date\"]) ## "
   ]
  },
  {
   "cell_type": "code",
   "execution_count": null,
   "metadata": {},
   "outputs": [],
   "source": [
    "## After we update weekly rates for overall values, we w \n",
    "df_hospitalizations.update(merge_one) ## update overall sums\n",
    "merged_overall = df_hospitalizations.merge(dfWeekly, on=[\"catchment\", \"date\"]) ##  add in confirmed/recovered data\n",
    "combined = merged_overall\n",
    "combined"
   ]
  },
  {
   "cell_type": "code",
   "execution_count": null,
   "metadata": {},
   "outputs": [],
   "source": []
  },
  {
   "cell_type": "code",
   "execution_count": null,
   "metadata": {},
   "outputs": [],
   "source": [
    "combined.shape"
   ]
  },
  {
   "cell_type": "code",
   "execution_count": null,
   "metadata": {},
   "outputs": [],
   "source": [
    "combined[combined[\"catchment\"] == \"California\"]"
   ]
  },
  {
   "source": [
    "Ratio = (population of state * (# of hospitalizations)/100000)/Confirmed Cases"
   ],
   "cell_type": "markdown",
   "metadata": {}
  },
  {
   "cell_type": "code",
   "execution_count": null,
   "metadata": {},
   "outputs": [],
   "source": [
    "def calculate_hospitalization_ratio(row):\n",
    "    if not np.isnan(row[\"Confirmed\"]):\n",
    "        row[\"hospitalization_ratio\"] = (df_census[row[\"catchment\"]] * row[\"weekly_rate\"]/100000)/row[\"Confirmed\"] * 100\n",
    "    if not np.isnan(row[\"Recovered\"]):\n",
    "        row[\"recovery_per_confirmed\"] = row[\"Recovered\"]/row[\"Confirmed\"]\n",
    "    \n",
    "    return row\n",
    "\n"
   ]
  },
  {
   "cell_type": "code",
   "execution_count": null,
   "metadata": {},
   "outputs": [],
   "source": [
    "columns = combined.columns\n",
    "finalCombined = combined.apply(calculate_hospitalization_ratio, axis=1)\n"
   ]
  },
  {
   "cell_type": "code",
   "execution_count": null,
   "metadata": {},
   "outputs": [],
   "source": [
    "columns = list(combined.columns)\n",
    "columns.extend([\"hospitalization_ratio\", \"recovery_per_confirmed\"])\n",
    "finalCombined = finalCombined[columns].sort_values(\"hospitalization_ratio\", ascending=False)\n",
    "\n",
    "finalCombined.plot.scatter(x=\"date\", y=\"hospitalization_ratio\", rot=45)\n"
   ]
  },
  {
   "cell_type": "code",
   "execution_count": null,
   "metadata": {},
   "outputs": [],
   "source": [
    "finalCombined[finalCombined[\"date\"] > \"04/09/2020\"].plot.scatter(x=\"date\", y=\"hospitalization_ratio\", rot=45)"
   ]
  },
  {
   "source": [
    "### Yea Humanity just kinda died around March 2020 no cap\n",
    "\n",
    "### It's quite interesting to see how there was a 14000% hospitalization ratio in March. Maybe no one was ready to collect data when covid happened"
   ],
   "cell_type": "markdown",
   "metadata": {}
  },
  {
   "cell_type": "code",
   "execution_count": null,
   "metadata": {},
   "outputs": [],
   "source": [
    "finalCombined.head()"
   ]
  },
  {
   "source": [
    "## This is for anyone wanting to use this code for some insights!\n",
    "\n",
    "### Steps:\n",
    "1. Pick a date range\n",
    "2. Pick a state or few states\n",
    "3. Find the weekly rate"
   ],
   "cell_type": "markdown",
   "metadata": {}
  },
  {
   "cell_type": "code",
   "execution_count": null,
   "metadata": {},
   "outputs": [],
   "source": [
    "print(\"Here are the available states for study states: %s\\n\" % finalCombined[\"catchment\"].unique())\n",
    "print(\"The date ranges from %s to %s\" % (finalCombined[\"date\"].min(), finalCombined[\"date\"].max()))"
   ]
  },
  {
   "cell_type": "code",
   "execution_count": null,
   "metadata": {},
   "outputs": [],
   "source": [
    "catchments = finalCombined[\"catchment\"].unique()\n",
    "catchments = \"|\".join(catchments)\n",
    "\n",
    "pickARandomState = \\\n",
    "    finalCombined[\"catchment\"].str.contains(catchments) & \\\n",
    "    (finalCombined[\"date\"] >= \"2020-07-01\") & \\\n",
    "    (finalCombined[\"date\"] <= \"2021-01-30\")\n",
    "g = sns.scatterplot(x=\"date\", y=\"hospitalization_ratio\", data=finalCombined[pickARandomState], hue=\"catchment\")\n",
    "sns.set(rc={'figure.figsize':(15, 10)})\n",
    "_ = plt.xticks(rotation=40)"
   ]
  },
  {
   "source": [
    "## Summary"
   ],
   "cell_type": "markdown",
   "metadata": {}
  },
  {
   "cell_type": "code",
   "execution_count": null,
   "metadata": {},
   "outputs": [],
   "source": [
    "finalCombined.head()"
   ]
  },
  {
   "cell_type": "code",
   "execution_count": null,
   "metadata": {},
   "outputs": [],
   "source": [
    "finalCombined.describe()"
   ]
  },
  {
   "cell_type": "code",
   "execution_count": null,
   "metadata": {},
   "outputs": [],
   "source": [
    "finalCombined.info()"
   ]
  },
  {
   "cell_type": "code",
   "execution_count": null,
   "metadata": {},
   "outputs": [],
   "source": [
    "finalCombined.to_csv(\"./data/merged_data.csv\", index=False)"
   ]
  },
  {
   "source": [
    "## Have fun :DD"
   ],
   "cell_type": "markdown",
   "metadata": {}
  }
 ]
}